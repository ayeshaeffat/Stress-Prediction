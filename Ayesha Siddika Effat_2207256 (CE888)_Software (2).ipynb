{
 "cells": [
  {
   "cell_type": "code",
   "execution_count": 1,
   "id": "ad6712f1",
   "metadata": {},
   "outputs": [],
   "source": [
    "import pandas as pd\n",
    "import numpy as np\n",
    "from scipy import signal"
   ]
  },
  {
   "cell_type": "code",
   "execution_count": 2,
   "id": "ccc990b3",
   "metadata": {},
   "outputs": [],
   "source": [
    "import matplotlib.pyplot as plt\n",
    "import seaborn as sns\n",
    "import os\n",
    "import warnings            \n",
    "warnings.filterwarnings(\"ignore\")"
   ]
  },
  {
   "cell_type": "code",
   "execution_count": 3,
   "id": "b3cf5944",
   "metadata": {},
   "outputs": [],
   "source": [
    "from sklearn.preprocessing import LabelEncoder\n",
    "from sklearn.model_selection import train_test_split\n",
    "from sklearn.linear_model import LogisticRegression\n",
    "from sklearn.ensemble import RandomForestClassifier\n",
    "from sklearn.naive_bayes import GaussianNB\n",
    "from sklearn.tree import DecisionTreeClassifier\n",
    "from sklearn.model_selection import cross_val_score\n",
    "from sklearn.metrics import accuracy_score, confusion_matrix,  classification_report"
   ]
  },
  {
   "cell_type": "code",
   "execution_count": 4,
   "id": "7f44bfdd",
   "metadata": {},
   "outputs": [],
   "source": [
    "path = r'C:\\Users\\User\\Stress-Predict-Dataset-main\\Raw_data'"
   ]
  },
  {
   "cell_type": "code",
   "execution_count": 5,
   "id": "b2c74b6d",
   "metadata": {},
   "outputs": [],
   "source": [
    "# Iterate over every one of the participating directories in the file.\n",
    "for folder in os.listdir(path):\n",
    "    if folder.startswith('S'):\n",
    "        folder_path = os.path.join(path, folder)\n",
    "        \n",
    "        AccSet = pd.read_csv(os.path.join(folder_path, 'ACC.csv'), header=0)\n",
    "        BvpSet = pd.read_csv(os.path.join(folder_path, 'BVP.csv'), header=0)\n",
    "        EdaSet= pd.read_csv(os.path.join(folder_path, 'EDA.csv'), header=0)\n",
    "        HrSet = pd.read_csv(os.path.join(folder_path, 'HR.csv'), header=0)\n",
    "        IbiSet = pd.read_csv(os.path.join(folder_path, 'IBI.csv'), header=0)\n",
    "        TempSet = pd.read_csv(os.path.join(folder_path, 'TEMP.csv'), header=0)\n",
    "        TagsSet = pd.read_csv(os.path.join(folder_path, f'tags_{folder}.csv'), header=None)\n",
    "        \n",
    "        # Removal of 2 rows from top\n",
    "        acc_header = AccSet.iloc[:2]\n",
    "        bvp_header = BvpSet.iloc[:2]\n",
    "        eda_header = EdaSet.iloc[:2]\n",
    "        hr_header = HrSet.iloc[:2]\n",
    "        ibi_header = IbiSet.iloc[:2]\n",
    "        temp_header = TempSet.iloc[:2]\n",
    "        \n",
    "        # Removal of null values\n",
    "        AccSet =AccSet.dropna()\n",
    "        BvpSet=AccSet.dropna()\n",
    "        EdaSet=EdaSet.dropna()\n",
    "        HrSet=HrSet.dropna()\n",
    "        IbiSet=IbiSet.dropna()\n",
    "        TempSet=TempSet.dropna()\n",
    "        \n",
    "        # Resampling dataset utilizing interpolation\n",
    "        acc_df = pd.DataFrame(np.interp(np.linspace(0, \n",
    "                                                    len(AccSet)-1, int(len(AccSet)/2 * 4)), np.arange(len(AccSet)), \n",
    "                                        AccSet.values[:,0]))\n",
    "        bvp_df = pd.DataFrame(np.interp(np.linspace(0, len(BvpSet)-1,\n",
    "                                                    int(len(BvpSet)/((float(bvp_header.iloc[1,0])+1) * 4))), \n",
    "                                        np.arange(len(BvpSet)), BvpSet.values[:,0]))\n",
    "        eda_df = pd.DataFrame(np.interp(np.linspace(0, len(EdaSet)-1,\n",
    "                                                    int(len(EdaSet)/((float(eda_header.iloc[1,0])+1) * 4))),\n",
    "                                        np.arange(len(EdaSet)), EdaSet.values[:,0]))\n",
    "        hr_df = pd.DataFrame(np.interp(np.linspace(0, len(HrSet)-1,\n",
    "                                                   int(len(HrSet)/(float(hr_header.iloc[1,0]) * 4))), \n",
    "                                       np.arange(len(HrSet)), HrSet.values[:,0]))\n",
    "        ibi_df = pd.DataFrame(np.interp(np.linspace(0, len(IbiSet)-1, int(len(IbiSet)/2 * 4)),\n",
    "                                        np.arange(len(IbiSet)), IbiSet.values[:,0]))\n",
    "        temp_df = pd.DataFrame(np.interp(np.linspace(0, len(TempSet)-1,\n",
    "                                                     int(len(TempSet)/(float(temp_header.iloc[1,0]) * 4))), \n",
    "                                         np.arange(len(TempSet)), TempSet.values[:,0]))"
   ]
  },
  {
   "cell_type": "code",
   "execution_count": 6,
   "id": "aeb53df6",
   "metadata": {},
   "outputs": [
    {
     "data": {
      "text/html": [
       "<div>\n",
       "<style scoped>\n",
       "    .dataframe tbody tr th:only-of-type {\n",
       "        vertical-align: middle;\n",
       "    }\n",
       "\n",
       "    .dataframe tbody tr th {\n",
       "        vertical-align: top;\n",
       "    }\n",
       "\n",
       "    .dataframe thead th {\n",
       "        text-align: right;\n",
       "    }\n",
       "</style>\n",
       "<table border=\"1\" class=\"dataframe\">\n",
       "  <thead>\n",
       "    <tr style=\"text-align: right;\">\n",
       "      <th></th>\n",
       "      <th>1646838724.000000</th>\n",
       "      <th>1646838724.000000</th>\n",
       "      <th>1646838724.000000.1</th>\n",
       "    </tr>\n",
       "  </thead>\n",
       "  <tbody>\n",
       "    <tr>\n",
       "      <th>0</th>\n",
       "      <td>32.0</td>\n",
       "      <td>32.0</td>\n",
       "      <td>32.0</td>\n",
       "    </tr>\n",
       "    <tr>\n",
       "      <th>1</th>\n",
       "      <td>-11.0</td>\n",
       "      <td>45.0</td>\n",
       "      <td>56.0</td>\n",
       "    </tr>\n",
       "  </tbody>\n",
       "</table>\n",
       "</div>"
      ],
      "text/plain": [
       "   1646838724.000000   1646838724.000000   1646838724.000000.1\n",
       "0               32.0                32.0                  32.0\n",
       "1              -11.0                45.0                  56.0"
      ]
     },
     "execution_count": 6,
     "metadata": {},
     "output_type": "execute_result"
    }
   ],
   "source": [
    "acc_header"
   ]
  },
  {
   "cell_type": "code",
   "execution_count": 7,
   "id": "6f5c56bc",
   "metadata": {},
   "outputs": [],
   "source": [
    "acc_df['Stress'] = None\n",
    "bvp_df['Stress'] = None\n",
    "eda_df['Stress'] = None\n",
    "hr_df['Stress'] = None\n",
    "ibi_df['Stress'] = None\n",
    "temp_df['Stress'] = None"
   ]
  },
  {
   "cell_type": "code",
   "execution_count": 8,
   "id": "3ecb976e",
   "metadata": {
    "scrolled": true
   },
   "outputs": [
    {
     "data": {
      "text/html": [
       "<div>\n",
       "<style scoped>\n",
       "    .dataframe tbody tr th:only-of-type {\n",
       "        vertical-align: middle;\n",
       "    }\n",
       "\n",
       "    .dataframe tbody tr th {\n",
       "        vertical-align: top;\n",
       "    }\n",
       "\n",
       "    .dataframe thead th {\n",
       "        text-align: right;\n",
       "    }\n",
       "</style>\n",
       "<table border=\"1\" class=\"dataframe\">\n",
       "  <thead>\n",
       "    <tr style=\"text-align: right;\">\n",
       "      <th></th>\n",
       "      <th>0</th>\n",
       "      <th>Stress</th>\n",
       "    </tr>\n",
       "  </thead>\n",
       "  <tbody>\n",
       "    <tr>\n",
       "      <th>0</th>\n",
       "      <td>1.000000</td>\n",
       "      <td>None</td>\n",
       "    </tr>\n",
       "    <tr>\n",
       "      <th>1</th>\n",
       "      <td>72.601429</td>\n",
       "      <td>None</td>\n",
       "    </tr>\n",
       "    <tr>\n",
       "      <th>2</th>\n",
       "      <td>72.022857</td>\n",
       "      <td>None</td>\n",
       "    </tr>\n",
       "    <tr>\n",
       "      <th>3</th>\n",
       "      <td>74.384286</td>\n",
       "      <td>None</td>\n",
       "    </tr>\n",
       "    <tr>\n",
       "      <th>4</th>\n",
       "      <td>87.757143</td>\n",
       "      <td>None</td>\n",
       "    </tr>\n",
       "    <tr>\n",
       "      <th>5</th>\n",
       "      <td>72.741429</td>\n",
       "      <td>None</td>\n",
       "    </tr>\n",
       "    <tr>\n",
       "      <th>6</th>\n",
       "      <td>97.321429</td>\n",
       "      <td>None</td>\n",
       "    </tr>\n",
       "    <tr>\n",
       "      <th>7</th>\n",
       "      <td>65.500000</td>\n",
       "      <td>None</td>\n",
       "    </tr>\n",
       "  </tbody>\n",
       "</table>\n",
       "</div>"
      ],
      "text/plain": [
       "           0 Stress\n",
       "0   1.000000   None\n",
       "1  72.601429   None\n",
       "2  72.022857   None\n",
       "3  74.384286   None\n",
       "4  87.757143   None\n",
       "5  72.741429   None\n",
       "6  97.321429   None\n",
       "7  65.500000   None"
      ]
     },
     "execution_count": 8,
     "metadata": {},
     "output_type": "execute_result"
    }
   ],
   "source": [
    "hr_df "
   ]
  },
  {
   "cell_type": "code",
   "execution_count": 9,
   "id": "b74f328f",
   "metadata": {},
   "outputs": [
    {
     "data": {
      "text/plain": [
       "(2220, 2)"
      ]
     },
     "execution_count": 9,
     "metadata": {},
     "output_type": "execute_result"
    }
   ],
   "source": [
    "ibi_df.shape"
   ]
  },
  {
   "cell_type": "code",
   "execution_count": 10,
   "id": "839d2d41",
   "metadata": {},
   "outputs": [
    {
     "data": {
      "text/html": [
       "<div>\n",
       "<style scoped>\n",
       "    .dataframe tbody tr th:only-of-type {\n",
       "        vertical-align: middle;\n",
       "    }\n",
       "\n",
       "    .dataframe tbody tr th {\n",
       "        vertical-align: top;\n",
       "    }\n",
       "\n",
       "    .dataframe thead th {\n",
       "        text-align: right;\n",
       "    }\n",
       "</style>\n",
       "<table border=\"1\" class=\"dataframe\">\n",
       "  <thead>\n",
       "    <tr style=\"text-align: right;\">\n",
       "      <th></th>\n",
       "      <th>0</th>\n",
       "      <th>Stress</th>\n",
       "    </tr>\n",
       "  </thead>\n",
       "  <tbody>\n",
       "    <tr>\n",
       "      <th>0</th>\n",
       "      <td>48.062500</td>\n",
       "      <td>None</td>\n",
       "    </tr>\n",
       "    <tr>\n",
       "      <th>1</th>\n",
       "      <td>48.437331</td>\n",
       "      <td>None</td>\n",
       "    </tr>\n",
       "    <tr>\n",
       "      <th>2</th>\n",
       "      <td>48.812162</td>\n",
       "      <td>None</td>\n",
       "    </tr>\n",
       "    <tr>\n",
       "      <th>3</th>\n",
       "      <td>49.202597</td>\n",
       "      <td>None</td>\n",
       "    </tr>\n",
       "    <tr>\n",
       "      <th>4</th>\n",
       "      <td>49.593046</td>\n",
       "      <td>None</td>\n",
       "    </tr>\n",
       "    <tr>\n",
       "      <th>...</th>\n",
       "      <td>...</td>\n",
       "      <td>...</td>\n",
       "    </tr>\n",
       "    <tr>\n",
       "      <th>2215</th>\n",
       "      <td>3307.330618</td>\n",
       "      <td>None</td>\n",
       "    </tr>\n",
       "    <tr>\n",
       "      <th>2216</th>\n",
       "      <td>3326.040932</td>\n",
       "      <td>None</td>\n",
       "    </tr>\n",
       "    <tr>\n",
       "      <th>2217</th>\n",
       "      <td>3344.734833</td>\n",
       "      <td>None</td>\n",
       "    </tr>\n",
       "    <tr>\n",
       "      <th>2218</th>\n",
       "      <td>3345.242416</td>\n",
       "      <td>None</td>\n",
       "    </tr>\n",
       "    <tr>\n",
       "      <th>2219</th>\n",
       "      <td>3345.750000</td>\n",
       "      <td>None</td>\n",
       "    </tr>\n",
       "  </tbody>\n",
       "</table>\n",
       "<p>2220 rows × 2 columns</p>\n",
       "</div>"
      ],
      "text/plain": [
       "                0 Stress\n",
       "0       48.062500   None\n",
       "1       48.437331   None\n",
       "2       48.812162   None\n",
       "3       49.202597   None\n",
       "4       49.593046   None\n",
       "...           ...    ...\n",
       "2215  3307.330618   None\n",
       "2216  3326.040932   None\n",
       "2217  3344.734833   None\n",
       "2218  3345.242416   None\n",
       "2219  3345.750000   None\n",
       "\n",
       "[2220 rows x 2 columns]"
      ]
     },
     "execution_count": 10,
     "metadata": {},
     "output_type": "execute_result"
    }
   ],
   "source": [
    "ibi_df"
   ]
  },
  {
   "cell_type": "code",
   "execution_count": 11,
   "id": "83381abd",
   "metadata": {},
   "outputs": [
    {
     "data": {
      "text/html": [
       "<div>\n",
       "<style scoped>\n",
       "    .dataframe tbody tr th:only-of-type {\n",
       "        vertical-align: middle;\n",
       "    }\n",
       "\n",
       "    .dataframe tbody tr th {\n",
       "        vertical-align: top;\n",
       "    }\n",
       "\n",
       "    .dataframe thead th {\n",
       "        text-align: right;\n",
       "    }\n",
       "</style>\n",
       "<table border=\"1\" class=\"dataframe\">\n",
       "  <thead>\n",
       "    <tr style=\"text-align: right;\">\n",
       "      <th></th>\n",
       "      <th>0</th>\n",
       "      <th>Stress</th>\n",
       "    </tr>\n",
       "  </thead>\n",
       "  <tbody>\n",
       "    <tr>\n",
       "      <th>0</th>\n",
       "      <td>32.000000</td>\n",
       "      <td>None</td>\n",
       "    </tr>\n",
       "    <tr>\n",
       "      <th>1</th>\n",
       "      <td>10.500095</td>\n",
       "      <td>None</td>\n",
       "    </tr>\n",
       "    <tr>\n",
       "      <th>2</th>\n",
       "      <td>-10.999809</td>\n",
       "      <td>None</td>\n",
       "    </tr>\n",
       "    <tr>\n",
       "      <th>3</th>\n",
       "      <td>-8.500033</td>\n",
       "      <td>None</td>\n",
       "    </tr>\n",
       "    <tr>\n",
       "      <th>4</th>\n",
       "      <td>-6.000044</td>\n",
       "      <td>None</td>\n",
       "    </tr>\n",
       "    <tr>\n",
       "      <th>...</th>\n",
       "      <td>...</td>\n",
       "      <td>...</td>\n",
       "    </tr>\n",
       "    <tr>\n",
       "      <th>225465</th>\n",
       "      <td>-16.999991</td>\n",
       "      <td>None</td>\n",
       "    </tr>\n",
       "    <tr>\n",
       "      <th>225466</th>\n",
       "      <td>-16.499993</td>\n",
       "      <td>None</td>\n",
       "    </tr>\n",
       "    <tr>\n",
       "      <th>225467</th>\n",
       "      <td>-16.000004</td>\n",
       "      <td>None</td>\n",
       "    </tr>\n",
       "    <tr>\n",
       "      <th>225468</th>\n",
       "      <td>-16.500002</td>\n",
       "      <td>None</td>\n",
       "    </tr>\n",
       "    <tr>\n",
       "      <th>225469</th>\n",
       "      <td>-17.000000</td>\n",
       "      <td>None</td>\n",
       "    </tr>\n",
       "  </tbody>\n",
       "</table>\n",
       "<p>225470 rows × 2 columns</p>\n",
       "</div>"
      ],
      "text/plain": [
       "                0 Stress\n",
       "0       32.000000   None\n",
       "1       10.500095   None\n",
       "2      -10.999809   None\n",
       "3       -8.500033   None\n",
       "4       -6.000044   None\n",
       "...           ...    ...\n",
       "225465 -16.999991   None\n",
       "225466 -16.499993   None\n",
       "225467 -16.000004   None\n",
       "225468 -16.500002   None\n",
       "225469 -17.000000   None\n",
       "\n",
       "[225470 rows x 2 columns]"
      ]
     },
     "execution_count": 11,
     "metadata": {},
     "output_type": "execute_result"
    }
   ],
   "source": [
    "acc_df"
   ]
  },
  {
   "cell_type": "code",
   "execution_count": 12,
   "id": "50f711b5",
   "metadata": {},
   "outputs": [
    {
     "data": {
      "text/html": [
       "<div>\n",
       "<style scoped>\n",
       "    .dataframe tbody tr th:only-of-type {\n",
       "        vertical-align: middle;\n",
       "    }\n",
       "\n",
       "    .dataframe tbody tr th {\n",
       "        vertical-align: top;\n",
       "    }\n",
       "\n",
       "    .dataframe thead th {\n",
       "        text-align: right;\n",
       "    }\n",
       "</style>\n",
       "<table border=\"1\" class=\"dataframe\">\n",
       "  <thead>\n",
       "    <tr style=\"text-align: right;\">\n",
       "      <th></th>\n",
       "      <th>0</th>\n",
       "      <th>Stress</th>\n",
       "    </tr>\n",
       "  </thead>\n",
       "  <tbody>\n",
       "    <tr>\n",
       "      <th>0</th>\n",
       "      <td>32.000000</td>\n",
       "      <td>None</td>\n",
       "    </tr>\n",
       "    <tr>\n",
       "      <th>1</th>\n",
       "      <td>-48.004045</td>\n",
       "      <td>None</td>\n",
       "    </tr>\n",
       "    <tr>\n",
       "      <th>2</th>\n",
       "      <td>-39.001277</td>\n",
       "      <td>None</td>\n",
       "    </tr>\n",
       "    <tr>\n",
       "      <th>3</th>\n",
       "      <td>-27.001277</td>\n",
       "      <td>None</td>\n",
       "    </tr>\n",
       "    <tr>\n",
       "      <th>4</th>\n",
       "      <td>-49.993187</td>\n",
       "      <td>None</td>\n",
       "    </tr>\n",
       "    <tr>\n",
       "      <th>...</th>\n",
       "      <td>...</td>\n",
       "      <td>...</td>\n",
       "    </tr>\n",
       "    <tr>\n",
       "      <th>28178</th>\n",
       "      <td>-16.000852</td>\n",
       "      <td>None</td>\n",
       "    </tr>\n",
       "    <tr>\n",
       "      <th>28179</th>\n",
       "      <td>-15.000639</td>\n",
       "      <td>None</td>\n",
       "    </tr>\n",
       "    <tr>\n",
       "      <th>28180</th>\n",
       "      <td>-17.000000</td>\n",
       "      <td>None</td>\n",
       "    </tr>\n",
       "    <tr>\n",
       "      <th>28181</th>\n",
       "      <td>-16.999787</td>\n",
       "      <td>None</td>\n",
       "    </tr>\n",
       "    <tr>\n",
       "      <th>28182</th>\n",
       "      <td>-17.000000</td>\n",
       "      <td>None</td>\n",
       "    </tr>\n",
       "  </tbody>\n",
       "</table>\n",
       "<p>28183 rows × 2 columns</p>\n",
       "</div>"
      ],
      "text/plain": [
       "               0 Stress\n",
       "0      32.000000   None\n",
       "1     -48.004045   None\n",
       "2     -39.001277   None\n",
       "3     -27.001277   None\n",
       "4     -49.993187   None\n",
       "...          ...    ...\n",
       "28178 -16.000852   None\n",
       "28179 -15.000639   None\n",
       "28180 -17.000000   None\n",
       "28181 -16.999787   None\n",
       "28182 -17.000000   None\n",
       "\n",
       "[28183 rows x 2 columns]"
      ]
     },
     "execution_count": 12,
     "metadata": {},
     "output_type": "execute_result"
    }
   ],
   "source": [
    "bvp_df"
   ]
  },
  {
   "cell_type": "code",
   "execution_count": 13,
   "id": "ef9634ab",
   "metadata": {},
   "outputs": [],
   "source": [
    "StressData = pd.DataFrame({\"ACC\":acc_df[0],\"TEMP\":temp_df[0],\n",
    "                            \"EDA\":eda_df[0], \"IBI\":ibi_df[0],\n",
    "                           \"BVP\":bvp_df[0],\"HR\":hr_df[0] })"
   ]
  },
  {
   "cell_type": "code",
   "execution_count": 14,
   "id": "9ec4d3de",
   "metadata": {},
   "outputs": [
    {
     "data": {
      "text/html": [
       "<div>\n",
       "<style scoped>\n",
       "    .dataframe tbody tr th:only-of-type {\n",
       "        vertical-align: middle;\n",
       "    }\n",
       "\n",
       "    .dataframe tbody tr th {\n",
       "        vertical-align: top;\n",
       "    }\n",
       "\n",
       "    .dataframe thead th {\n",
       "        text-align: right;\n",
       "    }\n",
       "</style>\n",
       "<table border=\"1\" class=\"dataframe\">\n",
       "  <thead>\n",
       "    <tr style=\"text-align: right;\">\n",
       "      <th></th>\n",
       "      <th>ACC</th>\n",
       "      <th>TEMP</th>\n",
       "      <th>EDA</th>\n",
       "      <th>IBI</th>\n",
       "      <th>BVP</th>\n",
       "      <th>HR</th>\n",
       "    </tr>\n",
       "  </thead>\n",
       "  <tbody>\n",
       "    <tr>\n",
       "      <th>0</th>\n",
       "      <td>32.000000</td>\n",
       "      <td>4.00</td>\n",
       "      <td>4.000000</td>\n",
       "      <td>48.062500</td>\n",
       "      <td>32.000000</td>\n",
       "      <td>1.000000</td>\n",
       "    </tr>\n",
       "    <tr>\n",
       "      <th>1</th>\n",
       "      <td>10.500095</td>\n",
       "      <td>33.49</td>\n",
       "      <td>0.808482</td>\n",
       "      <td>48.437331</td>\n",
       "      <td>-48.004045</td>\n",
       "      <td>72.601429</td>\n",
       "    </tr>\n",
       "    <tr>\n",
       "      <th>2</th>\n",
       "      <td>-10.999809</td>\n",
       "      <td>33.53</td>\n",
       "      <td>0.549949</td>\n",
       "      <td>48.812162</td>\n",
       "      <td>-39.001277</td>\n",
       "      <td>72.022857</td>\n",
       "    </tr>\n",
       "    <tr>\n",
       "      <th>3</th>\n",
       "      <td>-8.500033</td>\n",
       "      <td>33.57</td>\n",
       "      <td>0.534621</td>\n",
       "      <td>49.202597</td>\n",
       "      <td>-27.001277</td>\n",
       "      <td>74.384286</td>\n",
       "    </tr>\n",
       "    <tr>\n",
       "      <th>4</th>\n",
       "      <td>-6.000044</td>\n",
       "      <td>33.55</td>\n",
       "      <td>0.552515</td>\n",
       "      <td>49.593046</td>\n",
       "      <td>-49.993187</td>\n",
       "      <td>87.757143</td>\n",
       "    </tr>\n",
       "    <tr>\n",
       "      <th>5</th>\n",
       "      <td>-22.499634</td>\n",
       "      <td>33.49</td>\n",
       "      <td>0.544840</td>\n",
       "      <td>49.983495</td>\n",
       "      <td>-44.995742</td>\n",
       "      <td>72.741429</td>\n",
       "    </tr>\n",
       "    <tr>\n",
       "      <th>6</th>\n",
       "      <td>-38.999561</td>\n",
       "      <td>33.55</td>\n",
       "      <td>0.530712</td>\n",
       "      <td>50.373944</td>\n",
       "      <td>-34.005110</td>\n",
       "      <td>97.321429</td>\n",
       "    </tr>\n",
       "    <tr>\n",
       "      <th>7</th>\n",
       "      <td>-43.499860</td>\n",
       "      <td>33.55</td>\n",
       "      <td>0.534572</td>\n",
       "      <td>55.787559</td>\n",
       "      <td>-45.017884</td>\n",
       "      <td>65.500000</td>\n",
       "    </tr>\n",
       "    <tr>\n",
       "      <th>8</th>\n",
       "      <td>-47.999840</td>\n",
       "      <td>33.50</td>\n",
       "      <td>0.538368</td>\n",
       "      <td>61.214800</td>\n",
       "      <td>-52.986374</td>\n",
       "      <td>NaN</td>\n",
       "    </tr>\n",
       "    <tr>\n",
       "      <th>9</th>\n",
       "      <td>-57.499621</td>\n",
       "      <td>33.41</td>\n",
       "      <td>0.517925</td>\n",
       "      <td>61.623416</td>\n",
       "      <td>-43.005748</td>\n",
       "      <td>NaN</td>\n",
       "    </tr>\n",
       "  </tbody>\n",
       "</table>\n",
       "</div>"
      ],
      "text/plain": [
       "         ACC   TEMP       EDA        IBI        BVP         HR\n",
       "0  32.000000   4.00  4.000000  48.062500  32.000000   1.000000\n",
       "1  10.500095  33.49  0.808482  48.437331 -48.004045  72.601429\n",
       "2 -10.999809  33.53  0.549949  48.812162 -39.001277  72.022857\n",
       "3  -8.500033  33.57  0.534621  49.202597 -27.001277  74.384286\n",
       "4  -6.000044  33.55  0.552515  49.593046 -49.993187  87.757143\n",
       "5 -22.499634  33.49  0.544840  49.983495 -44.995742  72.741429\n",
       "6 -38.999561  33.55  0.530712  50.373944 -34.005110  97.321429\n",
       "7 -43.499860  33.55  0.534572  55.787559 -45.017884  65.500000\n",
       "8 -47.999840  33.50  0.538368  61.214800 -52.986374        NaN\n",
       "9 -57.499621  33.41  0.517925  61.623416 -43.005748        NaN"
      ]
     },
     "execution_count": 14,
     "metadata": {},
     "output_type": "execute_result"
    }
   ],
   "source": [
    "StressData.head(10)"
   ]
  },
  {
   "cell_type": "code",
   "execution_count": 15,
   "id": "db209bf0",
   "metadata": {},
   "outputs": [
    {
     "data": {
      "text/plain": [
       "(225470, 6)"
      ]
     },
     "execution_count": 15,
     "metadata": {},
     "output_type": "execute_result"
    }
   ],
   "source": [
    "StressData.shape"
   ]
  },
  {
   "cell_type": "code",
   "execution_count": 16,
   "id": "1a98e280",
   "metadata": {},
   "outputs": [
    {
     "data": {
      "text/html": [
       "<div>\n",
       "<style scoped>\n",
       "    .dataframe tbody tr th:only-of-type {\n",
       "        vertical-align: middle;\n",
       "    }\n",
       "\n",
       "    .dataframe tbody tr th {\n",
       "        vertical-align: top;\n",
       "    }\n",
       "\n",
       "    .dataframe thead th {\n",
       "        text-align: right;\n",
       "    }\n",
       "</style>\n",
       "<table border=\"1\" class=\"dataframe\">\n",
       "  <thead>\n",
       "    <tr style=\"text-align: right;\">\n",
       "      <th></th>\n",
       "      <th>ACC</th>\n",
       "      <th>TEMP</th>\n",
       "      <th>EDA</th>\n",
       "      <th>IBI</th>\n",
       "      <th>BVP</th>\n",
       "      <th>HR</th>\n",
       "    </tr>\n",
       "  </thead>\n",
       "  <tbody>\n",
       "    <tr>\n",
       "      <th>0</th>\n",
       "      <td>32.000000</td>\n",
       "      <td>4.00</td>\n",
       "      <td>4.000000</td>\n",
       "      <td>48.062500</td>\n",
       "      <td>32.000000</td>\n",
       "      <td>1.000000</td>\n",
       "    </tr>\n",
       "    <tr>\n",
       "      <th>1</th>\n",
       "      <td>10.500095</td>\n",
       "      <td>33.49</td>\n",
       "      <td>0.808482</td>\n",
       "      <td>48.437331</td>\n",
       "      <td>-48.004045</td>\n",
       "      <td>72.601429</td>\n",
       "    </tr>\n",
       "    <tr>\n",
       "      <th>2</th>\n",
       "      <td>-10.999809</td>\n",
       "      <td>33.53</td>\n",
       "      <td>0.549949</td>\n",
       "      <td>48.812162</td>\n",
       "      <td>-39.001277</td>\n",
       "      <td>72.022857</td>\n",
       "    </tr>\n",
       "    <tr>\n",
       "      <th>3</th>\n",
       "      <td>-8.500033</td>\n",
       "      <td>33.57</td>\n",
       "      <td>0.534621</td>\n",
       "      <td>49.202597</td>\n",
       "      <td>-27.001277</td>\n",
       "      <td>74.384286</td>\n",
       "    </tr>\n",
       "    <tr>\n",
       "      <th>4</th>\n",
       "      <td>-6.000044</td>\n",
       "      <td>33.55</td>\n",
       "      <td>0.552515</td>\n",
       "      <td>49.593046</td>\n",
       "      <td>-49.993187</td>\n",
       "      <td>87.757143</td>\n",
       "    </tr>\n",
       "  </tbody>\n",
       "</table>\n",
       "</div>"
      ],
      "text/plain": [
       "         ACC   TEMP       EDA        IBI        BVP         HR\n",
       "0  32.000000   4.00  4.000000  48.062500  32.000000   1.000000\n",
       "1  10.500095  33.49  0.808482  48.437331 -48.004045  72.601429\n",
       "2 -10.999809  33.53  0.549949  48.812162 -39.001277  72.022857\n",
       "3  -8.500033  33.57  0.534621  49.202597 -27.001277  74.384286\n",
       "4  -6.000044  33.55  0.552515  49.593046 -49.993187  87.757143"
      ]
     },
     "execution_count": 16,
     "metadata": {},
     "output_type": "execute_result"
    }
   ],
   "source": [
    "StressData.head()"
   ]
  },
  {
   "cell_type": "code",
   "execution_count": 17,
   "id": "49224d36",
   "metadata": {},
   "outputs": [
    {
     "data": {
      "text/plain": [
       "ACC          0\n",
       "TEMP    225366\n",
       "EDA     221945\n",
       "IBI     223250\n",
       "BVP     197287\n",
       "HR      225462\n",
       "dtype: int64"
      ]
     },
     "execution_count": 17,
     "metadata": {},
     "output_type": "execute_result"
    }
   ],
   "source": [
    "StressData.isnull().sum()"
   ]
  },
  {
   "cell_type": "code",
   "execution_count": 18,
   "id": "f8e24a46",
   "metadata": {},
   "outputs": [],
   "source": [
    "StressData['BVP'].fillna(StressData['BVP'].mean(), inplace=True)"
   ]
  },
  {
   "cell_type": "code",
   "execution_count": 19,
   "id": "227fd36b",
   "metadata": {},
   "outputs": [],
   "source": [
    "StressData['TEMP'].fillna(StressData['TEMP'].mean(), inplace=True)"
   ]
  },
  {
   "cell_type": "code",
   "execution_count": 20,
   "id": "97d0822d",
   "metadata": {},
   "outputs": [],
   "source": [
    "StressData['EDA'].fillna(StressData['EDA'].mean(), inplace=True)"
   ]
  },
  {
   "cell_type": "code",
   "execution_count": 21,
   "id": "5815f6b4",
   "metadata": {},
   "outputs": [],
   "source": [
    "StressData['IBI'].fillna(StressData['IBI'].mean(), inplace=True)"
   ]
  },
  {
   "cell_type": "code",
   "execution_count": 22,
   "id": "13e25b0a",
   "metadata": {},
   "outputs": [],
   "source": [
    "StressData['HR'].fillna(StressData['HR'].mean(), inplace=True)"
   ]
  },
  {
   "cell_type": "code",
   "execution_count": 23,
   "id": "b515602e",
   "metadata": {},
   "outputs": [
    {
     "data": {
      "text/plain": [
       "Index(['ACC', 'TEMP', 'EDA', 'IBI', 'BVP', 'HR'], dtype='object')"
      ]
     },
     "execution_count": 23,
     "metadata": {},
     "output_type": "execute_result"
    }
   ],
   "source": [
    "StressData.columns"
   ]
  },
  {
   "cell_type": "code",
   "execution_count": 24,
   "id": "ef06b79d",
   "metadata": {},
   "outputs": [],
   "source": [
    "StressData['add']=StressData['ACC']+StressData['TEMP']+StressData['EDA']+StressData['BVP']+StressData['HR']+StressData['IBI']"
   ]
  },
  {
   "cell_type": "code",
   "execution_count": 25,
   "id": "ea99f53b",
   "metadata": {},
   "outputs": [
    {
     "data": {
      "text/html": [
       "<div>\n",
       "<style scoped>\n",
       "    .dataframe tbody tr th:only-of-type {\n",
       "        vertical-align: middle;\n",
       "    }\n",
       "\n",
       "    .dataframe tbody tr th {\n",
       "        vertical-align: top;\n",
       "    }\n",
       "\n",
       "    .dataframe thead th {\n",
       "        text-align: right;\n",
       "    }\n",
       "</style>\n",
       "<table border=\"1\" class=\"dataframe\">\n",
       "  <thead>\n",
       "    <tr style=\"text-align: right;\">\n",
       "      <th></th>\n",
       "      <th>ACC</th>\n",
       "      <th>TEMP</th>\n",
       "      <th>EDA</th>\n",
       "      <th>IBI</th>\n",
       "      <th>BVP</th>\n",
       "      <th>HR</th>\n",
       "      <th>add</th>\n",
       "    </tr>\n",
       "  </thead>\n",
       "  <tbody>\n",
       "    <tr>\n",
       "      <th>0</th>\n",
       "      <td>32.000000</td>\n",
       "      <td>4.00</td>\n",
       "      <td>4.000000</td>\n",
       "      <td>48.062500</td>\n",
       "      <td>32.000000</td>\n",
       "      <td>1.000000</td>\n",
       "      <td>121.062500</td>\n",
       "    </tr>\n",
       "    <tr>\n",
       "      <th>1</th>\n",
       "      <td>10.500095</td>\n",
       "      <td>33.49</td>\n",
       "      <td>0.808482</td>\n",
       "      <td>48.437331</td>\n",
       "      <td>-48.004045</td>\n",
       "      <td>72.601429</td>\n",
       "      <td>117.833291</td>\n",
       "    </tr>\n",
       "    <tr>\n",
       "      <th>2</th>\n",
       "      <td>-10.999809</td>\n",
       "      <td>33.53</td>\n",
       "      <td>0.549949</td>\n",
       "      <td>48.812162</td>\n",
       "      <td>-39.001277</td>\n",
       "      <td>72.022857</td>\n",
       "      <td>104.913882</td>\n",
       "    </tr>\n",
       "    <tr>\n",
       "      <th>3</th>\n",
       "      <td>-8.500033</td>\n",
       "      <td>33.57</td>\n",
       "      <td>0.534621</td>\n",
       "      <td>49.202597</td>\n",
       "      <td>-27.001277</td>\n",
       "      <td>74.384286</td>\n",
       "      <td>122.190193</td>\n",
       "    </tr>\n",
       "    <tr>\n",
       "      <th>4</th>\n",
       "      <td>-6.000044</td>\n",
       "      <td>33.55</td>\n",
       "      <td>0.552515</td>\n",
       "      <td>49.593046</td>\n",
       "      <td>-49.993187</td>\n",
       "      <td>87.757143</td>\n",
       "      <td>115.459472</td>\n",
       "    </tr>\n",
       "  </tbody>\n",
       "</table>\n",
       "</div>"
      ],
      "text/plain": [
       "         ACC   TEMP       EDA        IBI        BVP         HR         add\n",
       "0  32.000000   4.00  4.000000  48.062500  32.000000   1.000000  121.062500\n",
       "1  10.500095  33.49  0.808482  48.437331 -48.004045  72.601429  117.833291\n",
       "2 -10.999809  33.53  0.549949  48.812162 -39.001277  72.022857  104.913882\n",
       "3  -8.500033  33.57  0.534621  49.202597 -27.001277  74.384286  122.190193\n",
       "4  -6.000044  33.55  0.552515  49.593046 -49.993187  87.757143  115.459472"
      ]
     },
     "execution_count": 25,
     "metadata": {},
     "output_type": "execute_result"
    }
   ],
   "source": [
    "StressData.head()"
   ]
  },
  {
   "cell_type": "code",
   "execution_count": 26,
   "id": "3280c2c1",
   "metadata": {},
   "outputs": [],
   "source": [
    "max_value = StressData['add'].max()"
   ]
  },
  {
   "cell_type": "code",
   "execution_count": 27,
   "id": "114eb1a4",
   "metadata": {},
   "outputs": [],
   "source": [
    "StressData['Stress'] = StressData['add'].apply(lambda x: 'hyperventilation' if x >= 0.66*max_value else ('interview' if x >= 0.33*max_value else 'stroop'))"
   ]
  },
  {
   "cell_type": "code",
   "execution_count": 28,
   "id": "44e1ccc4",
   "metadata": {},
   "outputs": [
    {
     "data": {
      "text/plain": [
       "interview           223966\n",
       "stroop                 935\n",
       "hyperventilation       569\n",
       "Name: Stress, dtype: int64"
      ]
     },
     "execution_count": 28,
     "metadata": {},
     "output_type": "execute_result"
    }
   ],
   "source": [
    "StressData['Stress'].value_counts()"
   ]
  },
  {
   "cell_type": "code",
   "execution_count": 29,
   "id": "fc72bcb7",
   "metadata": {
    "scrolled": true
   },
   "outputs": [
    {
     "data": {
      "text/plain": [
       "ACC       0\n",
       "TEMP      0\n",
       "EDA       0\n",
       "IBI       0\n",
       "BVP       0\n",
       "HR        0\n",
       "add       0\n",
       "Stress    0\n",
       "dtype: int64"
      ]
     },
     "execution_count": 29,
     "metadata": {},
     "output_type": "execute_result"
    }
   ],
   "source": [
    "StressData.isnull().sum()"
   ]
  },
  {
   "cell_type": "code",
   "execution_count": 30,
   "id": "4b68b869",
   "metadata": {
    "scrolled": true
   },
   "outputs": [
    {
     "name": "stdout",
     "output_type": "stream",
     "text": [
      "<class 'pandas.core.frame.DataFrame'>\n",
      "RangeIndex: 225470 entries, 0 to 225469\n",
      "Data columns (total 8 columns):\n",
      " #   Column  Non-Null Count   Dtype  \n",
      "---  ------  --------------   -----  \n",
      " 0   ACC     225470 non-null  float64\n",
      " 1   TEMP    225470 non-null  float64\n",
      " 2   EDA     225470 non-null  float64\n",
      " 3   IBI     225470 non-null  float64\n",
      " 4   BVP     225470 non-null  float64\n",
      " 5   HR      225470 non-null  float64\n",
      " 6   add     225470 non-null  float64\n",
      " 7   Stress  225470 non-null  object \n",
      "dtypes: float64(7), object(1)\n",
      "memory usage: 13.8+ MB\n"
     ]
    }
   ],
   "source": [
    "StressData.info()"
   ]
  },
  {
   "cell_type": "code",
   "execution_count": 31,
   "id": "481a656c",
   "metadata": {},
   "outputs": [
    {
     "data": {
      "text/plain": [
       "(225470, 8)"
      ]
     },
     "execution_count": 31,
     "metadata": {},
     "output_type": "execute_result"
    }
   ],
   "source": [
    "StressData.shape"
   ]
  },
  {
   "cell_type": "code",
   "execution_count": 32,
   "id": "b8677c2f",
   "metadata": {},
   "outputs": [
    {
     "data": {
      "text/plain": [
       "Index(['ACC', 'TEMP', 'EDA', 'IBI', 'BVP', 'HR', 'add', 'Stress'], dtype='object')"
      ]
     },
     "execution_count": 32,
     "metadata": {},
     "output_type": "execute_result"
    }
   ],
   "source": [
    "StressData.columns"
   ]
  },
  {
   "cell_type": "markdown",
   "id": "9c6b82e4",
   "metadata": {},
   "source": [
    "# Exploratory Data Analysis"
   ]
  },
  {
   "cell_type": "code",
   "execution_count": 33,
   "id": "9f0b876f",
   "metadata": {},
   "outputs": [
    {
     "data": {
      "text/html": [
       "<div>\n",
       "<style scoped>\n",
       "    .dataframe tbody tr th:only-of-type {\n",
       "        vertical-align: middle;\n",
       "    }\n",
       "\n",
       "    .dataframe tbody tr th {\n",
       "        vertical-align: top;\n",
       "    }\n",
       "\n",
       "    .dataframe thead th {\n",
       "        text-align: right;\n",
       "    }\n",
       "</style>\n",
       "<table border=\"1\" class=\"dataframe\">\n",
       "  <thead>\n",
       "    <tr style=\"text-align: right;\">\n",
       "      <th></th>\n",
       "      <th>count</th>\n",
       "      <th>mean</th>\n",
       "      <th>std</th>\n",
       "      <th>min</th>\n",
       "      <th>25%</th>\n",
       "      <th>50%</th>\n",
       "      <th>75%</th>\n",
       "      <th>max</th>\n",
       "    </tr>\n",
       "  </thead>\n",
       "  <tbody>\n",
       "    <tr>\n",
       "      <th>ACC</th>\n",
       "      <td>225470.0</td>\n",
       "      <td>-37.879946</td>\n",
       "      <td>20.974558</td>\n",
       "      <td>-128.000000</td>\n",
       "      <td>-56.935600</td>\n",
       "      <td>-39.000000</td>\n",
       "      <td>-27.000000</td>\n",
       "      <td>115.568961</td>\n",
       "    </tr>\n",
       "    <tr>\n",
       "      <th>TEMP</th>\n",
       "      <td>225470.0</td>\n",
       "      <td>32.170741</td>\n",
       "      <td>0.060699</td>\n",
       "      <td>4.000000</td>\n",
       "      <td>32.170741</td>\n",
       "      <td>32.170741</td>\n",
       "      <td>32.170741</td>\n",
       "      <td>33.570000</td>\n",
       "    </tr>\n",
       "    <tr>\n",
       "      <th>EDA</th>\n",
       "      <td>225470.0</td>\n",
       "      <td>0.716152</td>\n",
       "      <td>0.049072</td>\n",
       "      <td>0.147681</td>\n",
       "      <td>0.716152</td>\n",
       "      <td>0.716152</td>\n",
       "      <td>0.716152</td>\n",
       "      <td>4.000000</td>\n",
       "    </tr>\n",
       "    <tr>\n",
       "      <th>IBI</th>\n",
       "      <td>225470.0</td>\n",
       "      <td>1375.392604</td>\n",
       "      <td>84.010489</td>\n",
       "      <td>48.062500</td>\n",
       "      <td>1375.392604</td>\n",
       "      <td>1375.392604</td>\n",
       "      <td>1375.392604</td>\n",
       "      <td>3345.750000</td>\n",
       "    </tr>\n",
       "    <tr>\n",
       "      <th>BVP</th>\n",
       "      <td>225470.0</td>\n",
       "      <td>-37.856863</td>\n",
       "      <td>7.424852</td>\n",
       "      <td>-113.780924</td>\n",
       "      <td>-37.856863</td>\n",
       "      <td>-37.856863</td>\n",
       "      <td>-37.856863</td>\n",
       "      <td>109.716415</td>\n",
       "    </tr>\n",
       "    <tr>\n",
       "      <th>HR</th>\n",
       "      <td>225470.0</td>\n",
       "      <td>67.916071</td>\n",
       "      <td>0.161021</td>\n",
       "      <td>1.000000</td>\n",
       "      <td>67.916071</td>\n",
       "      <td>67.916071</td>\n",
       "      <td>67.916071</td>\n",
       "      <td>97.321429</td>\n",
       "    </tr>\n",
       "    <tr>\n",
       "      <th>add</th>\n",
       "      <td>225470.0</td>\n",
       "      <td>1400.458759</td>\n",
       "      <td>87.345124</td>\n",
       "      <td>39.888220</td>\n",
       "      <td>1379.908434</td>\n",
       "      <td>1400.988805</td>\n",
       "      <td>1411.960656</td>\n",
       "      <td>3343.754040</td>\n",
       "    </tr>\n",
       "  </tbody>\n",
       "</table>\n",
       "</div>"
      ],
      "text/plain": [
       "         count         mean        std         min          25%          50%  \\\n",
       "ACC   225470.0   -37.879946  20.974558 -128.000000   -56.935600   -39.000000   \n",
       "TEMP  225470.0    32.170741   0.060699    4.000000    32.170741    32.170741   \n",
       "EDA   225470.0     0.716152   0.049072    0.147681     0.716152     0.716152   \n",
       "IBI   225470.0  1375.392604  84.010489   48.062500  1375.392604  1375.392604   \n",
       "BVP   225470.0   -37.856863   7.424852 -113.780924   -37.856863   -37.856863   \n",
       "HR    225470.0    67.916071   0.161021    1.000000    67.916071    67.916071   \n",
       "add   225470.0  1400.458759  87.345124   39.888220  1379.908434  1400.988805   \n",
       "\n",
       "              75%          max  \n",
       "ACC    -27.000000   115.568961  \n",
       "TEMP    32.170741    33.570000  \n",
       "EDA      0.716152     4.000000  \n",
       "IBI   1375.392604  3345.750000  \n",
       "BVP    -37.856863   109.716415  \n",
       "HR      67.916071    97.321429  \n",
       "add   1411.960656  3343.754040  "
      ]
     },
     "execution_count": 33,
     "metadata": {},
     "output_type": "execute_result"
    }
   ],
   "source": [
    "StressData.describe().T"
   ]
  },
  {
   "cell_type": "code",
   "execution_count": 34,
   "id": "d9ce7119",
   "metadata": {},
   "outputs": [
    {
     "data": {
      "text/plain": [
       "interview           223966\n",
       "stroop                 935\n",
       "hyperventilation       569\n",
       "Name: Stress, dtype: int64"
      ]
     },
     "execution_count": 34,
     "metadata": {},
     "output_type": "execute_result"
    }
   ],
   "source": [
    "StressData['Stress'].value_counts()"
   ]
  },
  {
   "cell_type": "code",
   "execution_count": 35,
   "id": "eb640016",
   "metadata": {},
   "outputs": [
    {
     "data": {
      "text/plain": [
       "array(['stroop', 'interview', 'hyperventilation'], dtype=object)"
      ]
     },
     "execution_count": 35,
     "metadata": {},
     "output_type": "execute_result"
    }
   ],
   "source": [
    "StressData['Stress'].unique()"
   ]
  },
  {
   "cell_type": "code",
   "execution_count": 36,
   "id": "545c66ec",
   "metadata": {},
   "outputs": [
    {
     "data": {
      "image/png": "[encoded data removed]",
      "text/plain": [
       "<Figure size 400x300 with 1 Axes>"
      ]
     },
     "metadata": {},
     "output_type": "display_data"
    }
   ],
   "source": [
    "plt.figure(figsize = (4,3))\n",
    "plt.scatter(StressData[\"TEMP\"].to_numpy(), StressData[\"EDA\"].to_numpy())\n",
    "plt.show()"
   ]
  },
  {
   "cell_type": "code",
   "execution_count": 37,
   "id": "d115035a",
   "metadata": {},
   "outputs": [
    {
     "data": {
      "image/png": "[encoded data removed]",
      "text/plain": [
       "<Figure size 500x300 with 1 Axes>"
      ]
     },
     "metadata": {},
     "output_type": "display_data"
    }
   ],
   "source": [
    "plt.figure(figsize = (5,3))\n",
    "plt.pie(StressData['Stress'].value_counts(), labels=StressData['Stress'].unique(),  autopct='%.2f%%',\n",
    "       explode = (0, 1, 3))\n",
    "plt.show()"
   ]
  },
  {
   "cell_type": "code",
   "execution_count": 38,
   "id": "49d7fb7a",
   "metadata": {},
   "outputs": [
    {
     "data": {
      "image/png": "[encoded data removed]",
      "text/plain": [
       "<Figure size 500x300 with 1 Axes>"
      ]
     },
     "metadata": {},
     "output_type": "display_data"
    }
   ],
   "source": [
    "plt.figure(figsize = (5,3))\n",
    "sns.distplot(x=StressData['IBI'],  kde=True, bins=20, color='#ff0000')\n",
    "plt.show()"
   ]
  },
  {
   "cell_type": "code",
   "execution_count": 39,
   "id": "e147f171",
   "metadata": {},
   "outputs": [
    {
     "data": {
      "text/plain": [
       "<Axes: >"
      ]
     },
     "execution_count": 39,
     "metadata": {},
     "output_type": "execute_result"
    },
    {
     "data": {
      "image/png": "[encoded data removed]",
      "text/plain": [
       "<Figure size 640x480 with 1 Axes>"
      ]
     },
     "metadata": {},
     "output_type": "display_data"
    }
   ],
   "source": [
    "StressData['ACC'].plot()"
   ]
  },
  {
   "cell_type": "code",
   "execution_count": 40,
   "id": "3dec9479",
   "metadata": {},
   "outputs": [],
   "source": [
    "labenc = LabelEncoder()"
   ]
  },
  {
   "cell_type": "code",
   "execution_count": 41,
   "id": "6ce23323",
   "metadata": {},
   "outputs": [],
   "source": [
    "StressData['Stress']= labenc.fit_transform(StressData['Stress'])"
   ]
  },
  {
   "cell_type": "code",
   "execution_count": 42,
   "id": "3953fd17",
   "metadata": {},
   "outputs": [
    {
     "data": {
      "text/plain": [
       "1    223966\n",
       "2       935\n",
       "0       569\n",
       "Name: Stress, dtype: int64"
      ]
     },
     "execution_count": 42,
     "metadata": {},
     "output_type": "execute_result"
    }
   ],
   "source": [
    "StressData['Stress'].value_counts()"
   ]
  },
  {
   "cell_type": "code",
   "execution_count": 43,
   "id": "a41d0cf7",
   "metadata": {},
   "outputs": [],
   "source": [
    "StressData.drop(['add'], axis=1,inplace=True)"
   ]
  },
  {
   "cell_type": "code",
   "execution_count": 44,
   "id": "1969716b",
   "metadata": {
    "scrolled": false
   },
   "outputs": [
    {
     "data": {
      "image/png": "[encoded data removed]",
      "text/plain": [
       "<Figure size 800x600 with 2 Axes>"
      ]
     },
     "metadata": {},
     "output_type": "display_data"
    }
   ],
   "source": [
    "plt.figure(figsize = (8,6))\n",
    "correlmatrix = StressData.corr()\n",
    "sns.heatmap(correlmatrix, annot=True,square = True)\n",
    "plt.title('Correlation heat map for stress data', fontsize = 15)\n",
    "plt.show()"
   ]
  },
  {
   "cell_type": "code",
   "execution_count": 45,
   "id": "1f6a8958",
   "metadata": {},
   "outputs": [
    {
     "data": {
      "text/plain": [
       "ACC      -2.558670e-02\n",
       "TEMP     -3.799110e-14\n",
       "EDA      -4.237313e-01\n",
       "IBI      -9.025020e-01\n",
       "BVP      -1.775832e-03\n",
       "HR        0.000000e+00\n",
       "Stress    1.000000e+00\n",
       "Name: Stress, dtype: float64"
      ]
     },
     "execution_count": 45,
     "metadata": {},
     "output_type": "execute_result"
    }
   ],
   "source": [
    "correlmatrix['Stress']"
   ]
  },
  {
   "cell_type": "markdown",
   "id": "efaa41b8",
   "metadata": {},
   "source": [
    "# Dataset splitting"
   ]
  },
  {
   "cell_type": "code",
   "execution_count": 46,
   "id": "bd0df565",
   "metadata": {},
   "outputs": [],
   "source": [
    "X = StressData.drop(['Stress'], axis=1)"
   ]
  },
  {
   "cell_type": "code",
   "execution_count": 47,
   "id": "3295e50a",
   "metadata": {},
   "outputs": [],
   "source": [
    "y =StressData['Stress']"
   ]
  },
  {
   "cell_type": "code",
   "execution_count": 48,
   "id": "43db5d0e",
   "metadata": {},
   "outputs": [],
   "source": [
    "X_Train,X_Test,y_Train,y_Test = train_test_split(X,y,test_size = 0.20, random_state=117)"
   ]
  },
  {
   "cell_type": "markdown",
   "id": "08a8fb9e",
   "metadata": {},
   "source": [
    "# Machine learning model"
   ]
  },
  {
   "cell_type": "markdown",
   "id": "48d968b8",
   "metadata": {},
   "source": [
    "## Random Forest Classifier"
   ]
  },
  {
   "cell_type": "code",
   "execution_count": 49,
   "id": "388001e5",
   "metadata": {},
   "outputs": [
    {
     "data": {
      "text/html": [
       "<style>#sk-container-id-1 {color: black;background-color: white;}#sk-container-id-1 pre{padding: 0;}#sk-container-id-1 div.sk-toggleable {background-color: white;}#sk-container-id-1 label.sk-toggleable__label {cursor: pointer;display: block;width: 100%;margin-bottom: 0;padding: 0.3em;box-sizing: border-box;text-align: center;}#sk-container-id-1 label.sk-toggleable__label-arrow:before {content: \"▸\";float: left;margin-right: 0.25em;color: #696969;}#sk-container-id-1 label.sk-toggleable__label-arrow:hover:before {color: black;}#sk-container-id-1 div.sk-estimator:hover label.sk-toggleable__label-arrow:before {color: black;}#sk-container-id-1 div.sk-toggleable__content {max-height: 0;max-width: 0;overflow: hidden;text-align: left;background-color: #f0f8ff;}#sk-container-id-1 div.sk-toggleable__content pre {margin: 0.2em;color: black;border-radius: 0.25em;background-color: #f0f8ff;}#sk-container-id-1 input.sk-toggleable__control:checked~div.sk-toggleable__content {max-height: 200px;max-width: 100%;overflow: auto;}#sk-container-id-1 input.sk-toggleable__control:checked~label.sk-toggleable__label-arrow:before {content: \"▾\";}#sk-container-id-1 div.sk-estimator input.sk-toggleable__control:checked~label.sk-toggleable__label {background-color: #d4ebff;}#sk-container-id-1 div.sk-label input.sk-toggleable__control:checked~label.sk-toggleable__label {background-color: #d4ebff;}#sk-container-id-1 input.sk-hidden--visually {border: 0;clip: rect(1px 1px 1px 1px);clip: rect(1px, 1px, 1px, 1px);height: 1px;margin: -1px;overflow: hidden;padding: 0;position: absolute;width: 1px;}#sk-container-id-1 div.sk-estimator {font-family: monospace;background-color: #f0f8ff;border: 1px dotted black;border-radius: 0.25em;box-sizing: border-box;margin-bottom: 0.5em;}#sk-container-id-1 div.sk-estimator:hover {background-color: #d4ebff;}#sk-container-id-1 div.sk-parallel-item::after {content: \"\";width: 100%;border-bottom: 1px solid gray;flex-grow: 1;}#sk-container-id-1 div.sk-label:hover label.sk-toggleable__label {background-color: #d4ebff;}#sk-container-id-1 div.sk-serial::before {content: \"\";position: absolute;border-left: 1px solid gray;box-sizing: border-box;top: 0;bottom: 0;left: 50%;z-index: 0;}#sk-container-id-1 div.sk-serial {display: flex;flex-direction: column;align-items: center;background-color: white;padding-right: 0.2em;padding-left: 0.2em;position: relative;}#sk-container-id-1 div.sk-item {position: relative;z-index: 1;}#sk-container-id-1 div.sk-parallel {display: flex;align-items: stretch;justify-content: center;background-color: white;position: relative;}#sk-container-id-1 div.sk-item::before, #sk-container-id-1 div.sk-parallel-item::before {content: \"\";position: absolute;border-left: 1px solid gray;box-sizing: border-box;top: 0;bottom: 0;left: 50%;z-index: -1;}#sk-container-id-1 div.sk-parallel-item {display: flex;flex-direction: column;z-index: 1;position: relative;background-color: white;}#sk-container-id-1 div.sk-parallel-item:first-child::after {align-self: flex-end;width: 50%;}#sk-container-id-1 div.sk-parallel-item:last-child::after {align-self: flex-start;width: 50%;}#sk-container-id-1 div.sk-parallel-item:only-child::after {width: 0;}#sk-container-id-1 div.sk-dashed-wrapped {border: 1px dashed gray;margin: 0 0.4em 0.5em 0.4em;box-sizing: border-box;padding-bottom: 0.4em;background-color: white;}#sk-container-id-1 div.sk-label label {font-family: monospace;font-weight: bold;display: inline-block;line-height: 1.2em;}#sk-container-id-1 div.sk-label-container {text-align: center;}#sk-container-id-1 div.sk-container {/* jupyter's `normalize.less` sets `[hidden] { display: none; }` but bootstrap.min.css set `[hidden] { display: none !important; }` so we also need the `!important` here to be able to override the default hidden behavior on the sphinx rendered scikit-learn.org. See: https://github.com/scikit-learn/scikit-learn/issues/21755 */display: inline-block !important;position: relative;}#sk-container-id-1 div.sk-text-repr-fallback {display: none;}</style><div id=\"sk-container-id-1\" class=\"sk-top-container\"><div class=\"sk-text-repr-fallback\"><pre>RandomForestClassifier()</pre><b>In a Jupyter environment, please rerun this cell to show the HTML representation or trust the notebook. <br />On GitHub, the HTML representation is unable to render, please try loading this page with nbviewer.org.</b></div><div class=\"sk-container\" hidden><div class=\"sk-item\"><div class=\"sk-estimator sk-toggleable\"><input class=\"sk-toggleable__control sk-hidden--visually\" id=\"sk-estimator-id-1\" type=\"checkbox\" checked><label for=\"sk-estimator-id-1\" class=\"sk-toggleable__label sk-toggleable__label-arrow\">RandomForestClassifier</label><div class=\"sk-toggleable__content\"><pre>RandomForestClassifier()</pre></div></div></div></div></div>"
      ],
      "text/plain": [
       "RandomForestClassifier()"
      ]
     },
     "execution_count": 49,
     "metadata": {},
     "output_type": "execute_result"
    }
   ],
   "source": [
    "rfc = RandomForestClassifier()\n",
    "rfc.fit(X_Train,y_Train)"
   ]
  },
  {
   "cell_type": "code",
   "execution_count": 50,
   "id": "ede488f6",
   "metadata": {},
   "outputs": [
    {
     "data": {
      "text/plain": [
       "array([0.99993347, 0.99995565])"
      ]
     },
     "execution_count": 50,
     "metadata": {},
     "output_type": "execute_result"
    }
   ],
   "source": [
    "cross_val_score(rfc, X_Train,y_Train, cv=2)"
   ]
  },
  {
   "cell_type": "code",
   "execution_count": 51,
   "id": "a55ba301",
   "metadata": {},
   "outputs": [],
   "source": [
    "rfc_pred = rfc.predict(X_Test)"
   ]
  },
  {
   "cell_type": "code",
   "execution_count": 52,
   "id": "b2f798cd",
   "metadata": {},
   "outputs": [],
   "source": [
    "rfc_accuracy = round(accuracy_score(y_Test, rfc_pred)*100, 2)"
   ]
  },
  {
   "cell_type": "code",
   "execution_count": 53,
   "id": "135c6ad0",
   "metadata": {},
   "outputs": [
    {
     "data": {
      "text/plain": [
       "100.0"
      ]
     },
     "execution_count": 53,
     "metadata": {},
     "output_type": "execute_result"
    }
   ],
   "source": [
    "rfc_accuracy"
   ]
  },
  {
   "cell_type": "code",
   "execution_count": 54,
   "id": "b7e5cd2f",
   "metadata": {},
   "outputs": [
    {
     "name": "stdout",
     "output_type": "stream",
     "text": [
      "              precision    recall  f1-score   support\n",
      "\n",
      "           0       1.00      1.00      1.00        93\n",
      "           1       1.00      1.00      1.00     44812\n",
      "           2       1.00      0.99      1.00       189\n",
      "\n",
      "    accuracy                           1.00     45094\n",
      "   macro avg       1.00      1.00      1.00     45094\n",
      "weighted avg       1.00      1.00      1.00     45094\n",
      "\n"
     ]
    }
   ],
   "source": [
    "print(classification_report(y_Test, rfc_pred))"
   ]
  },
  {
   "cell_type": "code",
   "execution_count": 55,
   "id": "dd5c13c3",
   "metadata": {
    "scrolled": true
   },
   "outputs": [
    {
     "name": "stdout",
     "output_type": "stream",
     "text": [
      "[[   93     0     0]\n",
      " [    0 44812     0]\n",
      " [    0     1   188]]\n"
     ]
    }
   ],
   "source": [
    "print(confusion_matrix(y_Test, rfc_pred))"
   ]
  },
  {
   "cell_type": "markdown",
   "id": "7f66b737",
   "metadata": {},
   "source": [
    "## Logistic Regression"
   ]
  },
  {
   "cell_type": "code",
   "execution_count": 56,
   "id": "b2c2e8c9",
   "metadata": {},
   "outputs": [],
   "source": [
    "lm_log=LogisticRegression()"
   ]
  },
  {
   "cell_type": "code",
   "execution_count": 57,
   "id": "271839bd",
   "metadata": {},
   "outputs": [
    {
     "data": {
      "text/html": [
       "<style>#sk-container-id-2 {color: black;background-color: white;}#sk-container-id-2 pre{padding: 0;}#sk-container-id-2 div.sk-toggleable {background-color: white;}#sk-container-id-2 label.sk-toggleable__label {cursor: pointer;display: block;width: 100%;margin-bottom: 0;padding: 0.3em;box-sizing: border-box;text-align: center;}#sk-container-id-2 label.sk-toggleable__label-arrow:before {content: \"▸\";float: left;margin-right: 0.25em;color: #696969;}#sk-container-id-2 label.sk-toggleable__label-arrow:hover:before {color: black;}#sk-container-id-2 div.sk-estimator:hover label.sk-toggleable__label-arrow:before {color: black;}#sk-container-id-2 div.sk-toggleable__content {max-height: 0;max-width: 0;overflow: hidden;text-align: left;background-color: #f0f8ff;}#sk-container-id-2 div.sk-toggleable__content pre {margin: 0.2em;color: black;border-radius: 0.25em;background-color: #f0f8ff;}#sk-container-id-2 input.sk-toggleable__control:checked~div.sk-toggleable__content {max-height: 200px;max-width: 100%;overflow: auto;}#sk-container-id-2 input.sk-toggleable__control:checked~label.sk-toggleable__label-arrow:before {content: \"▾\";}#sk-container-id-2 div.sk-estimator input.sk-toggleable__control:checked~label.sk-toggleable__label {background-color: #d4ebff;}#sk-container-id-2 div.sk-label input.sk-toggleable__control:checked~label.sk-toggleable__label {background-color: #d4ebff;}#sk-container-id-2 input.sk-hidden--visually {border: 0;clip: rect(1px 1px 1px 1px);clip: rect(1px, 1px, 1px, 1px);height: 1px;margin: -1px;overflow: hidden;padding: 0;position: absolute;width: 1px;}#sk-container-id-2 div.sk-estimator {font-family: monospace;background-color: #f0f8ff;border: 1px dotted black;border-radius: 0.25em;box-sizing: border-box;margin-bottom: 0.5em;}#sk-container-id-2 div.sk-estimator:hover {background-color: #d4ebff;}#sk-container-id-2 div.sk-parallel-item::after {content: \"\";width: 100%;border-bottom: 1px solid gray;flex-grow: 1;}#sk-container-id-2 div.sk-label:hover label.sk-toggleable__label {background-color: #d4ebff;}#sk-container-id-2 div.sk-serial::before {content: \"\";position: absolute;border-left: 1px solid gray;box-sizing: border-box;top: 0;bottom: 0;left: 50%;z-index: 0;}#sk-container-id-2 div.sk-serial {display: flex;flex-direction: column;align-items: center;background-color: white;padding-right: 0.2em;padding-left: 0.2em;position: relative;}#sk-container-id-2 div.sk-item {position: relative;z-index: 1;}#sk-container-id-2 div.sk-parallel {display: flex;align-items: stretch;justify-content: center;background-color: white;position: relative;}#sk-container-id-2 div.sk-item::before, #sk-container-id-2 div.sk-parallel-item::before {content: \"\";position: absolute;border-left: 1px solid gray;box-sizing: border-box;top: 0;bottom: 0;left: 50%;z-index: -1;}#sk-container-id-2 div.sk-parallel-item {display: flex;flex-direction: column;z-index: 1;position: relative;background-color: white;}#sk-container-id-2 div.sk-parallel-item:first-child::after {align-self: flex-end;width: 50%;}#sk-container-id-2 div.sk-parallel-item:last-child::after {align-self: flex-start;width: 50%;}#sk-container-id-2 div.sk-parallel-item:only-child::after {width: 0;}#sk-container-id-2 div.sk-dashed-wrapped {border: 1px dashed gray;margin: 0 0.4em 0.5em 0.4em;box-sizing: border-box;padding-bottom: 0.4em;background-color: white;}#sk-container-id-2 div.sk-label label {font-family: monospace;font-weight: bold;display: inline-block;line-height: 1.2em;}#sk-container-id-2 div.sk-label-container {text-align: center;}#sk-container-id-2 div.sk-container {/* jupyter's `normalize.less` sets `[hidden] { display: none; }` but bootstrap.min.css set `[hidden] { display: none !important; }` so we also need the `!important` here to be able to override the default hidden behavior on the sphinx rendered scikit-learn.org. See: https://github.com/scikit-learn/scikit-learn/issues/21755 */display: inline-block !important;position: relative;}#sk-container-id-2 div.sk-text-repr-fallback {display: none;}</style><div id=\"sk-container-id-2\" class=\"sk-top-container\"><div class=\"sk-text-repr-fallback\"><pre>LogisticRegression()</pre><b>In a Jupyter environment, please rerun this cell to show the HTML representation or trust the notebook. <br />On GitHub, the HTML representation is unable to render, please try loading this page with nbviewer.org.</b></div><div class=\"sk-container\" hidden><div class=\"sk-item\"><div class=\"sk-estimator sk-toggleable\"><input class=\"sk-toggleable__control sk-hidden--visually\" id=\"sk-estimator-id-2\" type=\"checkbox\" checked><label for=\"sk-estimator-id-2\" class=\"sk-toggleable__label sk-toggleable__label-arrow\">LogisticRegression</label><div class=\"sk-toggleable__content\"><pre>LogisticRegression()</pre></div></div></div></div></div>"
      ],
      "text/plain": [
       "LogisticRegression()"
      ]
     },
     "execution_count": 57,
     "metadata": {},
     "output_type": "execute_result"
    }
   ],
   "source": [
    "lm_log.fit(X_Train,y_Train)"
   ]
  },
  {
   "cell_type": "code",
   "execution_count": 58,
   "id": "b59112bb",
   "metadata": {},
   "outputs": [
    {
     "data": {
      "text/plain": [
       "array([0.99984477, 0.99995565])"
      ]
     },
     "execution_count": 58,
     "metadata": {},
     "output_type": "execute_result"
    }
   ],
   "source": [
    "cross_val_score(lm_log, X_Train,y_Train, cv=2)"
   ]
  },
  {
   "cell_type": "code",
   "execution_count": 59,
   "id": "1a65a58e",
   "metadata": {},
   "outputs": [],
   "source": [
    "lm_log_pred = lm_log.predict(X_Test)"
   ]
  },
  {
   "cell_type": "code",
   "execution_count": 60,
   "id": "db02fc45",
   "metadata": {},
   "outputs": [],
   "source": [
    "lm_log_accuracy = round(accuracy_score(y_Test, lm_log_pred)*100, 2)"
   ]
  },
  {
   "cell_type": "code",
   "execution_count": 61,
   "id": "ab8e1dd6",
   "metadata": {},
   "outputs": [
    {
     "data": {
      "text/plain": [
       "100.0"
      ]
     },
     "execution_count": 61,
     "metadata": {},
     "output_type": "execute_result"
    }
   ],
   "source": [
    "lm_log_accuracy"
   ]
  },
  {
   "cell_type": "code",
   "execution_count": 62,
   "id": "7c22e2b7",
   "metadata": {},
   "outputs": [
    {
     "name": "stdout",
     "output_type": "stream",
     "text": [
      "              precision    recall  f1-score   support\n",
      "\n",
      "           0       1.00      1.00      1.00        93\n",
      "           1       1.00      1.00      1.00     44812\n",
      "           2       1.00      0.99      1.00       189\n",
      "\n",
      "    accuracy                           1.00     45094\n",
      "   macro avg       1.00      1.00      1.00     45094\n",
      "weighted avg       1.00      1.00      1.00     45094\n",
      "\n"
     ]
    }
   ],
   "source": [
    "print(classification_report(y_Test, lm_log_pred))"
   ]
  },
  {
   "cell_type": "code",
   "execution_count": 63,
   "id": "dae80ba6",
   "metadata": {},
   "outputs": [
    {
     "name": "stdout",
     "output_type": "stream",
     "text": [
      "[[   93     0     0]\n",
      " [    0 44812     0]\n",
      " [    0     1   188]]\n"
     ]
    }
   ],
   "source": [
    "print(confusion_matrix(y_Test, lm_log_pred))"
   ]
  },
  {
   "cell_type": "markdown",
   "id": "896989ac",
   "metadata": {},
   "source": [
    "## Naive Bayes"
   ]
  },
  {
   "cell_type": "code",
   "execution_count": 64,
   "id": "a5e8e9ca",
   "metadata": {},
   "outputs": [],
   "source": [
    "MNB=GaussianNB()"
   ]
  },
  {
   "cell_type": "code",
   "execution_count": 65,
   "id": "17e47ab9",
   "metadata": {},
   "outputs": [
    {
     "data": {
      "text/html": [
       "<style>#sk-container-id-3 {color: black;background-color: white;}#sk-container-id-3 pre{padding: 0;}#sk-container-id-3 div.sk-toggleable {background-color: white;}#sk-container-id-3 label.sk-toggleable__label {cursor: pointer;display: block;width: 100%;margin-bottom: 0;padding: 0.3em;box-sizing: border-box;text-align: center;}#sk-container-id-3 label.sk-toggleable__label-arrow:before {content: \"▸\";float: left;margin-right: 0.25em;color: #696969;}#sk-container-id-3 label.sk-toggleable__label-arrow:hover:before {color: black;}#sk-container-id-3 div.sk-estimator:hover label.sk-toggleable__label-arrow:before {color: black;}#sk-container-id-3 div.sk-toggleable__content {max-height: 0;max-width: 0;overflow: hidden;text-align: left;background-color: #f0f8ff;}#sk-container-id-3 div.sk-toggleable__content pre {margin: 0.2em;color: black;border-radius: 0.25em;background-color: #f0f8ff;}#sk-container-id-3 input.sk-toggleable__control:checked~div.sk-toggleable__content {max-height: 200px;max-width: 100%;overflow: auto;}#sk-container-id-3 input.sk-toggleable__control:checked~label.sk-toggleable__label-arrow:before {content: \"▾\";}#sk-container-id-3 div.sk-estimator input.sk-toggleable__control:checked~label.sk-toggleable__label {background-color: #d4ebff;}#sk-container-id-3 div.sk-label input.sk-toggleable__control:checked~label.sk-toggleable__label {background-color: #d4ebff;}#sk-container-id-3 input.sk-hidden--visually {border: 0;clip: rect(1px 1px 1px 1px);clip: rect(1px, 1px, 1px, 1px);height: 1px;margin: -1px;overflow: hidden;padding: 0;position: absolute;width: 1px;}#sk-container-id-3 div.sk-estimator {font-family: monospace;background-color: #f0f8ff;border: 1px dotted black;border-radius: 0.25em;box-sizing: border-box;margin-bottom: 0.5em;}#sk-container-id-3 div.sk-estimator:hover {background-color: #d4ebff;}#sk-container-id-3 div.sk-parallel-item::after {content: \"\";width: 100%;border-bottom: 1px solid gray;flex-grow: 1;}#sk-container-id-3 div.sk-label:hover label.sk-toggleable__label {background-color: #d4ebff;}#sk-container-id-3 div.sk-serial::before {content: \"\";position: absolute;border-left: 1px solid gray;box-sizing: border-box;top: 0;bottom: 0;left: 50%;z-index: 0;}#sk-container-id-3 div.sk-serial {display: flex;flex-direction: column;align-items: center;background-color: white;padding-right: 0.2em;padding-left: 0.2em;position: relative;}#sk-container-id-3 div.sk-item {position: relative;z-index: 1;}#sk-container-id-3 div.sk-parallel {display: flex;align-items: stretch;justify-content: center;background-color: white;position: relative;}#sk-container-id-3 div.sk-item::before, #sk-container-id-3 div.sk-parallel-item::before {content: \"\";position: absolute;border-left: 1px solid gray;box-sizing: border-box;top: 0;bottom: 0;left: 50%;z-index: -1;}#sk-container-id-3 div.sk-parallel-item {display: flex;flex-direction: column;z-index: 1;position: relative;background-color: white;}#sk-container-id-3 div.sk-parallel-item:first-child::after {align-self: flex-end;width: 50%;}#sk-container-id-3 div.sk-parallel-item:last-child::after {align-self: flex-start;width: 50%;}#sk-container-id-3 div.sk-parallel-item:only-child::after {width: 0;}#sk-container-id-3 div.sk-dashed-wrapped {border: 1px dashed gray;margin: 0 0.4em 0.5em 0.4em;box-sizing: border-box;padding-bottom: 0.4em;background-color: white;}#sk-container-id-3 div.sk-label label {font-family: monospace;font-weight: bold;display: inline-block;line-height: 1.2em;}#sk-container-id-3 div.sk-label-container {text-align: center;}#sk-container-id-3 div.sk-container {/* jupyter's `normalize.less` sets `[hidden] { display: none; }` but bootstrap.min.css set `[hidden] { display: none !important; }` so we also need the `!important` here to be able to override the default hidden behavior on the sphinx rendered scikit-learn.org. See: https://github.com/scikit-learn/scikit-learn/issues/21755 */display: inline-block !important;position: relative;}#sk-container-id-3 div.sk-text-repr-fallback {display: none;}</style><div id=\"sk-container-id-3\" class=\"sk-top-container\"><div class=\"sk-text-repr-fallback\"><pre>GaussianNB()</pre><b>In a Jupyter environment, please rerun this cell to show the HTML representation or trust the notebook. <br />On GitHub, the HTML representation is unable to render, please try loading this page with nbviewer.org.</b></div><div class=\"sk-container\" hidden><div class=\"sk-item\"><div class=\"sk-estimator sk-toggleable\"><input class=\"sk-toggleable__control sk-hidden--visually\" id=\"sk-estimator-id-3\" type=\"checkbox\" checked><label for=\"sk-estimator-id-3\" class=\"sk-toggleable__label sk-toggleable__label-arrow\">GaussianNB</label><div class=\"sk-toggleable__content\"><pre>GaussianNB()</pre></div></div></div></div></div>"
      ],
      "text/plain": [
       "GaussianNB()"
      ]
     },
     "execution_count": 65,
     "metadata": {},
     "output_type": "execute_result"
    }
   ],
   "source": [
    "MNB.fit(X_Train,y_Train)"
   ]
  },
  {
   "cell_type": "code",
   "execution_count": 66,
   "id": "b7eee12b",
   "metadata": {},
   "outputs": [
    {
     "data": {
      "text/plain": [
       "array([0.99204994, 0.99221626])"
      ]
     },
     "execution_count": 66,
     "metadata": {},
     "output_type": "execute_result"
    }
   ],
   "source": [
    "cross_val_score(MNB, X_Train,y_Train, cv=2)"
   ]
  },
  {
   "cell_type": "code",
   "execution_count": 67,
   "id": "40953b4c",
   "metadata": {},
   "outputs": [],
   "source": [
    "MNB_pred = MNB.predict(X_Test)"
   ]
  },
  {
   "cell_type": "code",
   "execution_count": 68,
   "id": "65753d41",
   "metadata": {},
   "outputs": [],
   "source": [
    "MNB_accuracy = round(accuracy_score(y_Test, MNB_pred)*100, 2)"
   ]
  },
  {
   "cell_type": "code",
   "execution_count": 69,
   "id": "69ad8f3e",
   "metadata": {},
   "outputs": [
    {
     "data": {
      "text/plain": [
       "99.18"
      ]
     },
     "execution_count": 69,
     "metadata": {},
     "output_type": "execute_result"
    }
   ],
   "source": [
    "MNB_accuracy"
   ]
  },
  {
   "cell_type": "code",
   "execution_count": 70,
   "id": "bfc8a925",
   "metadata": {},
   "outputs": [
    {
     "name": "stdout",
     "output_type": "stream",
     "text": [
      "              precision    recall  f1-score   support\n",
      "\n",
      "           0       0.25      1.00      0.40        93\n",
      "           1       1.00      0.99      1.00     44812\n",
      "           2       0.65      0.93      0.77       189\n",
      "\n",
      "    accuracy                           0.99     45094\n",
      "   macro avg       0.63      0.97      0.72     45094\n",
      "weighted avg       1.00      0.99      0.99     45094\n",
      "\n"
     ]
    }
   ],
   "source": [
    "print(classification_report(y_Test, MNB_pred))"
   ]
  },
  {
   "cell_type": "code",
   "execution_count": 71,
   "id": "fd56f5ec",
   "metadata": {},
   "outputs": [
    {
     "name": "stdout",
     "output_type": "stream",
     "text": [
      "[[   93     0     0]\n",
      " [  265 44454    93]\n",
      " [   13     0   176]]\n"
     ]
    }
   ],
   "source": [
    "print(confusion_matrix(y_Test, MNB_pred))"
   ]
  },
  {
   "cell_type": "markdown",
   "id": "5c6bfbc5",
   "metadata": {},
   "source": [
    "## Decision Tree Classifier"
   ]
  },
  {
   "cell_type": "code",
   "execution_count": 72,
   "id": "6e0e623a",
   "metadata": {},
   "outputs": [
    {
     "data": {
      "text/html": [
       "<style>#sk-container-id-4 {color: black;background-color: white;}#sk-container-id-4 pre{padding: 0;}#sk-container-id-4 div.sk-toggleable {background-color: white;}#sk-container-id-4 label.sk-toggleable__label {cursor: pointer;display: block;width: 100%;margin-bottom: 0;padding: 0.3em;box-sizing: border-box;text-align: center;}#sk-container-id-4 label.sk-toggleable__label-arrow:before {content: \"▸\";float: left;margin-right: 0.25em;color: #696969;}#sk-container-id-4 label.sk-toggleable__label-arrow:hover:before {color: black;}#sk-container-id-4 div.sk-estimator:hover label.sk-toggleable__label-arrow:before {color: black;}#sk-container-id-4 div.sk-toggleable__content {max-height: 0;max-width: 0;overflow: hidden;text-align: left;background-color: #f0f8ff;}#sk-container-id-4 div.sk-toggleable__content pre {margin: 0.2em;color: black;border-radius: 0.25em;background-color: #f0f8ff;}#sk-container-id-4 input.sk-toggleable__control:checked~div.sk-toggleable__content {max-height: 200px;max-width: 100%;overflow: auto;}#sk-container-id-4 input.sk-toggleable__control:checked~label.sk-toggleable__label-arrow:before {content: \"▾\";}#sk-container-id-4 div.sk-estimator input.sk-toggleable__control:checked~label.sk-toggleable__label {background-color: #d4ebff;}#sk-container-id-4 div.sk-label input.sk-toggleable__control:checked~label.sk-toggleable__label {background-color: #d4ebff;}#sk-container-id-4 input.sk-hidden--visually {border: 0;clip: rect(1px 1px 1px 1px);clip: rect(1px, 1px, 1px, 1px);height: 1px;margin: -1px;overflow: hidden;padding: 0;position: absolute;width: 1px;}#sk-container-id-4 div.sk-estimator {font-family: monospace;background-color: #f0f8ff;border: 1px dotted black;border-radius: 0.25em;box-sizing: border-box;margin-bottom: 0.5em;}#sk-container-id-4 div.sk-estimator:hover {background-color: #d4ebff;}#sk-container-id-4 div.sk-parallel-item::after {content: \"\";width: 100%;border-bottom: 1px solid gray;flex-grow: 1;}#sk-container-id-4 div.sk-label:hover label.sk-toggleable__label {background-color: #d4ebff;}#sk-container-id-4 div.sk-serial::before {content: \"\";position: absolute;border-left: 1px solid gray;box-sizing: border-box;top: 0;bottom: 0;left: 50%;z-index: 0;}#sk-container-id-4 div.sk-serial {display: flex;flex-direction: column;align-items: center;background-color: white;padding-right: 0.2em;padding-left: 0.2em;position: relative;}#sk-container-id-4 div.sk-item {position: relative;z-index: 1;}#sk-container-id-4 div.sk-parallel {display: flex;align-items: stretch;justify-content: center;background-color: white;position: relative;}#sk-container-id-4 div.sk-item::before, #sk-container-id-4 div.sk-parallel-item::before {content: \"\";position: absolute;border-left: 1px solid gray;box-sizing: border-box;top: 0;bottom: 0;left: 50%;z-index: -1;}#sk-container-id-4 div.sk-parallel-item {display: flex;flex-direction: column;z-index: 1;position: relative;background-color: white;}#sk-container-id-4 div.sk-parallel-item:first-child::after {align-self: flex-end;width: 50%;}#sk-container-id-4 div.sk-parallel-item:last-child::after {align-self: flex-start;width: 50%;}#sk-container-id-4 div.sk-parallel-item:only-child::after {width: 0;}#sk-container-id-4 div.sk-dashed-wrapped {border: 1px dashed gray;margin: 0 0.4em 0.5em 0.4em;box-sizing: border-box;padding-bottom: 0.4em;background-color: white;}#sk-container-id-4 div.sk-label label {font-family: monospace;font-weight: bold;display: inline-block;line-height: 1.2em;}#sk-container-id-4 div.sk-label-container {text-align: center;}#sk-container-id-4 div.sk-container {/* jupyter's `normalize.less` sets `[hidden] { display: none; }` but bootstrap.min.css set `[hidden] { display: none !important; }` so we also need the `!important` here to be able to override the default hidden behavior on the sphinx rendered scikit-learn.org. See: https://github.com/scikit-learn/scikit-learn/issues/21755 */display: inline-block !important;position: relative;}#sk-container-id-4 div.sk-text-repr-fallback {display: none;}</style><div id=\"sk-container-id-4\" class=\"sk-top-container\"><div class=\"sk-text-repr-fallback\"><pre>DecisionTreeClassifier()</pre><b>In a Jupyter environment, please rerun this cell to show the HTML representation or trust the notebook. <br />On GitHub, the HTML representation is unable to render, please try loading this page with nbviewer.org.</b></div><div class=\"sk-container\" hidden><div class=\"sk-item\"><div class=\"sk-estimator sk-toggleable\"><input class=\"sk-toggleable__control sk-hidden--visually\" id=\"sk-estimator-id-4\" type=\"checkbox\" checked><label for=\"sk-estimator-id-4\" class=\"sk-toggleable__label sk-toggleable__label-arrow\">DecisionTreeClassifier</label><div class=\"sk-toggleable__content\"><pre>DecisionTreeClassifier()</pre></div></div></div></div></div>"
      ],
      "text/plain": [
       "DecisionTreeClassifier()"
      ]
     },
     "execution_count": 72,
     "metadata": {},
     "output_type": "execute_result"
    }
   ],
   "source": [
    "dectree = DecisionTreeClassifier()\n",
    "dectree.fit(X_Train,y_Train)"
   ]
  },
  {
   "cell_type": "code",
   "execution_count": 73,
   "id": "ad57ff6a",
   "metadata": {},
   "outputs": [
    {
     "data": {
      "text/plain": [
       "array([0.99992238, 0.99993347])"
      ]
     },
     "execution_count": 73,
     "metadata": {},
     "output_type": "execute_result"
    }
   ],
   "source": [
    "cross_val_score(dectree, X_Train,y_Train, cv=2)"
   ]
  },
  {
   "cell_type": "code",
   "execution_count": 74,
   "id": "47099e3b",
   "metadata": {},
   "outputs": [],
   "source": [
    "dectree_pred = dectree.predict(X_Test)"
   ]
  },
  {
   "cell_type": "code",
   "execution_count": 75,
   "id": "11059051",
   "metadata": {},
   "outputs": [],
   "source": [
    "dectree_accuracy = round(accuracy_score(y_Test, dectree_pred)*100, 2)"
   ]
  },
  {
   "cell_type": "code",
   "execution_count": 76,
   "id": "d4ad6d16",
   "metadata": {},
   "outputs": [
    {
     "data": {
      "text/plain": [
       "100.0"
      ]
     },
     "execution_count": 76,
     "metadata": {},
     "output_type": "execute_result"
    }
   ],
   "source": [
    "dectree_accuracy"
   ]
  },
  {
   "cell_type": "code",
   "execution_count": 77,
   "id": "50dfb859",
   "metadata": {},
   "outputs": [
    {
     "name": "stdout",
     "output_type": "stream",
     "text": [
      "              precision    recall  f1-score   support\n",
      "\n",
      "           0       0.99      1.00      0.99        93\n",
      "           1       1.00      1.00      1.00     44812\n",
      "           2       1.00      1.00      1.00       189\n",
      "\n",
      "    accuracy                           1.00     45094\n",
      "   macro avg       1.00      1.00      1.00     45094\n",
      "weighted avg       1.00      1.00      1.00     45094\n",
      "\n"
     ]
    }
   ],
   "source": [
    "print(classification_report(y_Test, dectree_pred))"
   ]
  },
  {
   "cell_type": "code",
   "execution_count": 78,
   "id": "debef207",
   "metadata": {},
   "outputs": [
    {
     "name": "stdout",
     "output_type": "stream",
     "text": [
      "[[   93     0     0]\n",
      " [    1 44811     0]\n",
      " [    0     0   189]]\n"
     ]
    }
   ],
   "source": [
    "print(confusion_matrix(y_Test, dectree_pred))"
   ]
  },
  {
   "cell_type": "markdown",
   "id": "026aebcc",
   "metadata": {},
   "source": [
    "# Algorithms Comparision"
   ]
  },
  {
   "cell_type": "code",
   "execution_count": 79,
   "id": "c5432d34",
   "metadata": {},
   "outputs": [
    {
     "data": {
      "image/png": "[encoded data removed]",
      "text/plain": [
       "<Figure size 700x500 with 1 Axes>"
      ]
     },
     "metadata": {},
     "output_type": "display_data"
    }
   ],
   "source": [
    "model_list = [['Random Forest Classifier', rfc_accuracy], ['Logistic Regression', lm_log_accuracy],\n",
    "        ['Decision Tree Classifier',dectree_accuracy], ['Naive Bayes', MNB_accuracy]]\n",
    "DataFrame = pd.DataFrame(model_list, columns=['Algorithms Name', 'Accuracy Score'])\n",
    "plt.figure(figsize=(7,5))\n",
    "sns.barplot(x='Accuracy Score', y='Algorithms Name', data = DataFrame)\n",
    "plt.show()"
   ]
  }
 ],
 "metadata": {
  "kernelspec": {
   "display_name": "Python 3 (ipykernel)",
   "language": "python",
   "name": "python3"
  },
  "language_info": {
   "codemirror_mode": {
    "name": "ipython",
    "version": 3
   },
   "file_extension": ".py",
   "mimetype": "text/x-python",
   "name": "python",
   "nbconvert_exporter": "python",
   "pygments_lexer": "ipython3",
   "version": "3.10.9"
  }
 },
 "nbformat": 4,
 "nbformat_minor": 5
}
